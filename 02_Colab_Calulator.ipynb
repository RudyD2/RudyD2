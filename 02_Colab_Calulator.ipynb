{
  "nbformat": 4,
  "nbformat_minor": 0,
  "metadata": {
    "colab": {
      "provenance": [],
      "authorship_tag": "ABX9TyNd4OAI4gFzXfocLJKkSA91",
      "include_colab_link": true
    },
    "kernelspec": {
      "name": "python3",
      "display_name": "Python 3"
    },
    "language_info": {
      "name": "python"
    }
  },
  "cells": [
    {
      "cell_type": "markdown",
      "metadata": {
        "id": "view-in-github",
        "colab_type": "text"
      },
      "source": [
        "<a href=\"https://colab.research.google.com/github/RudyD2/RudyD2/blob/main/02_Colab_Calulator.ipynb\" target=\"_parent\"><img src=\"https://colab.research.google.com/assets/colab-badge.svg\" alt=\"Open In Colab\"/></a>"
      ]
    },
    {
      "cell_type": "code",
      "execution_count": null,
      "metadata": {
        "id": "c3XxtqQiHkah"
      },
      "outputs": [],
      "source": [
        "def calculate(operator, num1, num2):\n",
        "  if operator == \"+\":\n",
        "    result = num1 + num2\n",
        "    return round(result, 3)\n",
        "  elif operator == \"-\":\n",
        "    result = num1 - num2\n",
        "    return round(result, 3)\n",
        "  elif operator == \"*\" :\n",
        "    result = num1 * num2\n",
        "    return round(result, 3)\n",
        "  elif operator == \"/\" :\n",
        "    result = num1 / num2\n",
        "    return round(result, 3)\n",
        "  elif operator == \"**\" :\n",
        "    result = num1 ** num2\n",
        "    return round(result, 3)\n",
        "  else:\n",
        "    return f\"{operator} is not valid operator\"\n",
        "\n",
        "\n",
        "def input_loop():\n",
        "  tryagain = 'y'\n",
        "  while tryagain == 'y':\n",
        "    operator = input (\"Enter an operator (+ - * ** /): \")\n",
        "    num1 = float (input(\"Enter the 1st number:\"))\n",
        "    num2 = float(input(\"Enter the 2nd number:\"))\n",
        "    try:\n",
        "      result = calculate(operator, num1, num2)\n",
        "    except ValueError as e:\n",
        "      print(f\"Error: {e}\")\n",
        "\n",
        "    print(result)\n",
        "    tryagain = input(\"Would you like another round? y/n \")\n",
        "\n",
        "\n",
        "def test_calculate(name, condition):\n",
        "  if (condition):\n",
        "    print(name + \" passed!\")\n",
        "  else:\n",
        "    print(name + \" failed!\")\n",
        "\n",
        "\n",
        "\n",
        "\n",
        "\n",
        "\n",
        "\n"
      ]
    },
    {
      "cell_type": "code",
      "source": [
        "\n",
        "input_loop()"
      ],
      "metadata": {
        "colab": {
          "base_uri": "https://localhost:8080/"
        },
        "id": "Hf2_ggNYnyNi",
        "outputId": "6315246e-ffd6-4b64-e6b5-be1d1b53d646"
      },
      "execution_count": null,
      "outputs": [
        {
          "name": "stdout",
          "output_type": "stream",
          "text": [
            "Enter an operator (+ - * ** /): +\n",
            "Enter the 1st number:3\n",
            "Enter the 2nd number:3\n",
            "6.0\n",
            "Would you like another round? y/n n\n"
          ]
        }
      ]
    },
    {
      "cell_type": "code",
      "source": [
        "test_calculate(\"multiplication test\", calculate(\"*\",2,2) == 4)\n",
        "test_calculate(\"addition test\", calculate(\"+\",3,2) == 5)\n",
        "test_calculate(\"subraction test\", calculate(\"-\",2,2) == 0)\n",
        "test_calculate(\"division test\", calculate(\"/\",8,2) == 4)\n",
        "test_calculate(\"exponents test\", calculate(\"**\",3,3) == 27)"
      ],
      "metadata": {
        "colab": {
          "base_uri": "https://localhost:8080/"
        },
        "id": "_YNryRyUyQ0e",
        "outputId": "bd79efa6-1248-4c94-992d-802fc737e683"
      },
      "execution_count": null,
      "outputs": [
        {
          "output_type": "stream",
          "name": "stdout",
          "text": [
            "multiplication test passed!\n",
            "addition test passed!\n",
            "subraction test passed!\n",
            "division test passed!\n",
            "exponents test passed!\n"
          ]
        }
      ]
    }
  ]
}