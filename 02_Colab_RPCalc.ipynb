{
  "nbformat": 4,
  "nbformat_minor": 0,
  "metadata": {
    "colab": {
      "provenance": [],
      "authorship_tag": "ABX9TyOd+5/txh+EZuybd1X8l6DM",
      "include_colab_link": true
    },
    "kernelspec": {
      "name": "python3",
      "display_name": "Python 3"
    },
    "language_info": {
      "name": "python"
    }
  },
  "cells": [
    {
      "cell_type": "markdown",
      "metadata": {
        "id": "view-in-github",
        "colab_type": "text"
      },
      "source": [
        "<a href=\"https://colab.research.google.com/github/RudyD2/RudyD2/blob/main/02_Colab_RPCalc.ipynb\" target=\"_parent\"><img src=\"https://colab.research.google.com/assets/colab-badge.svg\" alt=\"Open In Colab\"/></a>"
      ]
    },
    {
      "cell_type": "code",
      "execution_count": null,
      "metadata": {
        "id": "KDs7DpxdRy8f"
      },
      "outputs": [],
      "source": [
        "def calculate(a,b,op):\n",
        "  if (op == '+'):\n",
        "    return a + b\n",
        "  if (op == '-'):\n",
        "    return a - b\n",
        "  if (op == \"*\"):\n",
        "    return a * b\n",
        "  if (op == '/'):\n",
        "    return a/b\n",
        "  if (op == '**'):\n",
        "    return a ** b\n",
        "  else:\n",
        "    return f'Op \"{op}\" is not a valid operation'\n",
        "\n",
        "\n",
        "def inputloop():\n",
        "  tryagain = 'y'\n",
        "  while tryagain == 'y':\n",
        "    print(\"Basic calculator does +, -, /, *, ** on two interger numbers!\")\n",
        "    a_str = input(\"Please input the first number \")\n",
        "    try:\n",
        "      a = float (a_str)\n",
        "    except:\n",
        "      print(\"That's a strange looking number...\")\n",
        "    b_str = input(\"Please enter the second number \")\n",
        "    try:\n",
        "      b = float(b_str)\n",
        "    except:\n",
        "      print(\"Something doesn't look right...\")\n",
        "    op = input(\"Please enter the operation (+,-,/,*,**)\")\n",
        "    try:\n",
        "      result = calculate (a,b,op)\n",
        "      print(result)\n",
        "    except:\n",
        "        print(\"Your calculation seems off, let's try again.\")\n",
        "    tryagain = input(\"Do you want to continue? (y/n) \")\n",
        "\n",
        "\n",
        "def test_calculate(name, condition):\n",
        "  if (condition):\n",
        "    print(name + \" passed!\")\n",
        "  else:\n",
        "    print(name + \" failed!\")\n",
        "\n"
      ]
    },
    {
      "cell_type": "code",
      "source": [
        "inputloop()\n"
      ],
      "metadata": {
        "colab": {
          "base_uri": "https://localhost:8080/"
        },
        "id": "ifQUqnRFX6iy",
        "outputId": "af0c1bb3-90cf-4ad8-a4cf-99d423ddb333"
      },
      "execution_count": null,
      "outputs": [
        {
          "name": "stdout",
          "output_type": "stream",
          "text": [
            "Basic calculator does +, -, /, *, ** on two interger numbers!\n",
            "Please input the first number 555.5\n",
            "Please enter the second number 2\n",
            "Please enter the operation (+,-,/,*,**)*\n",
            "1111.0\n",
            "Do you want to continue? (y/n) n\n"
          ]
        }
      ]
    },
    {
      "cell_type": "code",
      "source": [
        "test_calculate(\"Addition test\", calculate(1,2,\"+\")== 3)\n",
        "test_calculate(\"Subraction test\", calculate(2,1,\"-\")== 1)\n",
        "test_calculate(\"Multiplication test\", calculate(1,2,\"*\")== 2)\n",
        "test_calculate(\"Division test\", calculate(1,2,\"/\")== .5)\n",
        "test_calculate(\"Exponents test\", calculate(1,2,\"**\")== 1)"
      ],
      "metadata": {
        "colab": {
          "base_uri": "https://localhost:8080/"
        },
        "id": "jXPjAz50hbkN",
        "outputId": "72fdef95-ff9e-4d54-9c4a-7a6bf2a555c9"
      },
      "execution_count": null,
      "outputs": [
        {
          "output_type": "stream",
          "name": "stdout",
          "text": [
            "Addition test passed!\n",
            "Subraction test passed!\n",
            "Multiplication test passed!\n",
            "Division test passed!\n",
            "Exponents test passed!\n"
          ]
        }
      ]
    }
  ]
}