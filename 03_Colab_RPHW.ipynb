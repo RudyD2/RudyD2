{
  "nbformat": 4,
  "nbformat_minor": 0,
  "metadata": {
    "colab": {
      "provenance": [],
      "authorship_tag": "ABX9TyO1e2eGz/9mFOolPFi5z+9e",
      "include_colab_link": true
    },
    "kernelspec": {
      "name": "python3",
      "display_name": "Python 3"
    },
    "language_info": {
      "name": "python"
    }
  },
  "cells": [
    {
      "cell_type": "markdown",
      "metadata": {
        "id": "view-in-github",
        "colab_type": "text"
      },
      "source": [
        "<a href=\"https://colab.research.google.com/github/RudyD2/RudyD2/blob/main/03_Colab_RPHW.ipynb\" target=\"_parent\"><img src=\"https://colab.research.google.com/assets/colab-badge.svg\" alt=\"Open In Colab\"/></a>"
      ]
    },
    {
      "cell_type": "code",
      "execution_count": 22,
      "metadata": {
        "id": "KDs7DpxdRy8f"
      },
      "outputs": [],
      "source": [
        "class Calculator:\n",
        "  def __init__(self, a: float, b: float):\n",
        "    self.a = a\n",
        "    self.b = b\n",
        "\n",
        "  def calculate(self, op: str):\n",
        "    if (op == '+'):\n",
        "      return self.a + self.b\n",
        "    if (op == '-'):\n",
        "      return self.a - self.b\n",
        "    if (op == \"*\"):\n",
        "      return self.a * self.b\n",
        "    if op == '/':\n",
        "      if self.b != 0: # check for deivison by zero\n",
        "        return self.a / self.b\n",
        "      else:\n",
        "        return \"Cannot divide by zero\"\n",
        "    if (op == '**'):\n",
        "      return self.a ** self.b\n",
        "    else:\n",
        "      return f'Op \"{op}\" is not a valid operation'\n",
        "\n",
        "\n",
        "def user_input_loop():\n",
        "  '''Take in the first number, second number, and a string\n",
        "  Try to run the calculator funtion with the given inputs\n",
        "  Print results\n",
        "  Ask if they want to try again, otherwise the loop stops'''\n",
        "  tryagain = 'y'\n",
        "  while tryagain == 'y':\n",
        "    print(\"Basic calculator does +, -, /, *, ** on two interger numbers!\")\n",
        "    a_str = input(\"Please input the first number \")\n",
        "    try:\n",
        "      a = float(a_str)\n",
        "    except ValueError:\n",
        "      print(\"That's a strange looking number...\")\n",
        "      continue # Restart the loop\n",
        "    b_str = input(\"Please enter the second number: \")\n",
        "    try:\n",
        "      b = float(b_str)\n",
        "    except ValueError:\n",
        "      print(\"Something doesn't look right...\")\n",
        "      continue #Restart the loop\n",
        "    op = input(\"Please enter the operation (+, -, /, *, **): \")\n",
        "    calculator = Calculator(a, b)\n",
        "    try:\n",
        "      result = calculator.calculate(op)\n",
        "      print(result)\n",
        "    except ZeroDivisionError:\n",
        "      print(\"Cannot divide by zero\")\n",
        "    except:\n",
        "      print(\"Your calculation seems off, let's try again.\")\n",
        "    tryagain = input(\"Do you want to continue? (y/n): \")\n",
        "\n",
        "\n",
        "def test_calculate(name: str, condition: bool):\n",
        "  if (condition):\n",
        "    print(name + \" passed!\")\n",
        "  else:\n",
        "    print(name + \" failed!\")\n",
        "\n"
      ]
    },
    {
      "cell_type": "code",
      "source": [
        "user_input_loop()\n"
      ],
      "metadata": {
        "colab": {
          "base_uri": "https://localhost:8080/"
        },
        "id": "ifQUqnRFX6iy",
        "outputId": "2bd640b9-ead4-4581-d30f-eeb090ff7571"
      },
      "execution_count": 14,
      "outputs": [
        {
          "name": "stdout",
          "output_type": "stream",
          "text": [
            "Basic calculator does +, -, /, *, ** on two interger numbers!\n",
            "Please input the first number 4\n",
            "Please enter the second number: 4\n",
            "Please enter the operation (+, -, /, *, **): +\n",
            "8.0\n",
            "Do you want to continue? (y/n): y\n",
            "Basic calculator does +, -, /, *, ** on two interger numbers!\n",
            "Please input the first number 3\n",
            "Please enter the second number: 3\n",
            "Please enter the operation (+, -, /, *, **): +\n",
            "6.0\n",
            "Do you want to continue? (y/n): n\n"
          ]
        }
      ]
    },
    {
      "cell_type": "code",
      "source": [
        "def test_calculator_class():\n",
        "  test = Calculator(2, 2)\n",
        "  test_calculate(\"Addition test\", test.calculate(\"+\") == 4)\n",
        "  test_calculate(\"Subraction test\", test.calculate(\"-\") == 0)\n",
        "  test_calculate(\"Multiplication test\", test.calculate(\"*\") == 4)\n",
        "  test_calculate(\"Division test\", test.calculate(\"/\") == 1)\n",
        "  test_calculate(\"Exponents test\", test.calculate(\"**\") == 4)"
      ],
      "metadata": {
        "id": "jXPjAz50hbkN"
      },
      "execution_count": 25,
      "outputs": []
    },
    {
      "cell_type": "code",
      "source": [
        "test_calculator_class()"
      ],
      "metadata": {
        "colab": {
          "base_uri": "https://localhost:8080/"
        },
        "id": "-CIJLawXjuYl",
        "outputId": "5853cbf0-ce37-480d-8a68-00de3f3ec4bc"
      },
      "execution_count": 26,
      "outputs": [
        {
          "output_type": "stream",
          "name": "stdout",
          "text": [
            "Addition test passed!\n",
            "Subraction test passed!\n",
            "Multiplication test passed!\n",
            "Division test passed!\n",
            "Exponents test passed!\n"
          ]
        }
      ]
    }
  ]
}