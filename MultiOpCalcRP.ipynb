{
  "nbformat": 4,
  "nbformat_minor": 0,
  "metadata": {
    "colab": {
      "provenance": [],
      "authorship_tag": "ABX9TyMD8YuppdJATUD1Z8hq1C3b",
      "include_colab_link": true
    },
    "kernelspec": {
      "name": "python3",
      "display_name": "Python 3"
    },
    "language_info": {
      "name": "python"
    }
  },
  "cells": [
    {
      "cell_type": "markdown",
      "metadata": {
        "id": "view-in-github",
        "colab_type": "text"
      },
      "source": [
        "<a href=\"https://colab.research.google.com/github/RudyD2/RudyD2/blob/main/MultiOpCalcRP.ipynb\" target=\"_parent\"><img src=\"https://colab.research.google.com/assets/colab-badge.svg\" alt=\"Open In Colab\"/></a>"
      ]
    },
    {
      "cell_type": "code",
      "execution_count": 14,
      "metadata": {
        "colab": {
          "base_uri": "https://localhost:8080/"
        },
        "id": "2Nd0fWy6bJz0",
        "outputId": "46bb4cc3-c3e6-4489-c6cc-75bd41bc8aba"
      },
      "outputs": [
        {
          "name": "stdout",
          "output_type": "stream",
          "text": [
            "Addition test passed!\n",
            "Subtraction test passed!\n",
            "Multiplication test passed!\n",
            "Division test passed!\n",
            "Exponents test passed!\n",
            "Addition test passed!\n",
            "Basic calculator does +, -, /, *, ** on a running total!\n",
            "Please input the starting number: 2\n",
            "Please enter the operation (+, -, /, *, **) or 'q' to quit: +\n",
            "Please enter the number for operation '+': 2\n",
            "Current Result: 4.0\n",
            "Please enter the operation (+, -, /, *, **) or 'q' to quit: -\n",
            "Please enter the number for operation '-': 1\n",
            "Current Result: 3.0\n",
            "Please enter the operation (+, -, /, *, **) or 'q' to quit: q\n",
            "Do you want to continue? (y/n): n\n"
          ]
        }
      ],
      "source": [
        "from types import NotImplementedType\n",
        "class Calculator:\n",
        "    def __init__(self, a: float):\n",
        "        self.result = a\n",
        "\n",
        "    def calculate(self, op: str, b: float):\n",
        "        if op == '+':\n",
        "            self.result += b\n",
        "        elif op == '-':\n",
        "            self.result -= b\n",
        "        elif op == '*':\n",
        "            self.result *= b\n",
        "        elif op == '/':\n",
        "            if b != 0:\n",
        "                self.result /= b\n",
        "            else:\n",
        "                return \"Cannot divide by zero\"\n",
        "        elif op == '**':\n",
        "            self.result **= b\n",
        "        else:\n",
        "            return f'Op \"{op}\" is not a valid operation'\n",
        "        return None  # Return None after successful calculation\n",
        "\n",
        "    def get_result(self):\n",
        "        return self.result\n",
        "\n",
        "\n",
        "def user_input_loop():\n",
        "    tryagain = 'y'\n",
        "    while tryagain == 'y':\n",
        "        print(\"Basic calculator does +, -, /, *, ** on a running total!\")\n",
        "        a_str = input(\"Please input the starting number: \")\n",
        "        try:\n",
        "            a = float(a_str)\n",
        "        except ValueError:\n",
        "            print(\"That's a strange looking number...\")\n",
        "            continue\n",
        "        calculator = Calculator(a)\n",
        "        while True:\n",
        "            op = input(\"Please enter the operation (+, -, /, *, **) or 'q' to quit: \")\n",
        "            if op == 'q':\n",
        "                break\n",
        "            b_str = input(f\"Please enter the number for operation '{op}': \")\n",
        "            try:\n",
        "                b = float(b_str)\n",
        "            except ValueError:\n",
        "                print(\"Something doesn't look right...\")\n",
        "                continue\n",
        "            try:\n",
        "                error_message = calculator.calculate(op, b)\n",
        "                if error_message is not None:\n",
        "                    print(error_message)\n",
        "                else:\n",
        "                    print(\"Current Result:\", calculator.get_result())\n",
        "            except ZeroDivisionError:\n",
        "                print(\"Cannot divide by zero\")\n",
        "            except Exception as e:\n",
        "                print(\"An error occurred:\", str(e))\n",
        "                print(\"Your calculation seems off, let's try again.\")\n",
        "        tryagain = input(\"Do you want to continue? (y/n): \")\n",
        "\n",
        "\n",
        "def test_calculate(name: str, condition: bool):\n",
        "    if condition:\n",
        "        print(name + \" passed!\")\n",
        "    else:\n",
        "        print(name + \" failed!\")\n",
        "\n",
        "\n",
        "def test_calculator_class():\n",
        "    test = Calculator(2)\n",
        "    test_calculate(\"Addition test\", test.calculate(\"+\", 2) == None)\n",
        "    test_calculate(\"Subtraction test\", test.calculate(\"-\", 2) == None)\n",
        "    test_calculate(\"Multiplication test\", test.calculate(\"*\", 2) == None)\n",
        "    test_calculate(\"Division test\", test.calculate(\"/\", 2) == None)\n",
        "    test_calculate(\"Exponents test\", test.calculate(\"**\", 2) == None)\n",
        "\n",
        "    # Additional test case\n",
        "    test.calculate(\"+\", 3)\n",
        "    test_calculate(\"Addition test\", test.get_result() == 2 + 2 + 3)\n",
        "\n",
        "\n",
        "\n",
        "if __name__ == \"__main__\":\n",
        "    test_calculator_class()\n",
        "    user_input_loop()\n"
      ]
    },
    {
      "cell_type": "code",
      "source": [
        "test_calculator_class()"
      ],
      "metadata": {
        "colab": {
          "base_uri": "https://localhost:8080/"
        },
        "id": "bl2KvLQ7dgZH",
        "outputId": "74fc2ba8-36a5-4877-fc00-9220997ac857"
      },
      "execution_count": 11,
      "outputs": [
        {
          "output_type": "stream",
          "name": "stdout",
          "text": [
            "Addition test passed!\n",
            "Subtraction test passed!\n",
            "Multiplication test passed!\n",
            "Division test passed!\n",
            "Exponents test passed!\n",
            "Addition test passed!\n"
          ]
        }
      ]
    }
  ]
}